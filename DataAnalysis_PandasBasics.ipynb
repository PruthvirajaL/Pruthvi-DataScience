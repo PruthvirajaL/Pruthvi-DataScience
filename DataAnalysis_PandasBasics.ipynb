{
 "cells": [
  {
   "cell_type": "code",
   "execution_count": null,
   "metadata": {},
   "outputs": [],
   "source": [
    "# Let us import pandas and look at its version if you find an error \n",
    "# please install the pandas using !pip install pandas in jutpyter note book, if exists, it updates to the latest version\n",
    "import pandas\n",
    "pandas.__version__"
   ]
  },
  {
   "cell_type": "code",
   "execution_count": null,
   "metadata": {},
   "outputs": [],
   "source": [
    "# let us import the pandas as pd in short to save typing time and memory each time we execute the command\n",
    "import pandas as pd"
   ]
  },
  {
   "cell_type": "code",
   "execution_count": null,
   "metadata": {},
   "outputs": [],
   "source": [
    "# complete details on pandas can be found at: http://pandas.pydata.org/.\n",
    "# in order to check the available pandas documentaion us the command: pd.<TAB>?"
   ]
  },
  {
   "cell_type": "code",
   "execution_count": null,
   "metadata": {},
   "outputs": [],
   "source": [
    "# let us see what pandas is;\n",
    "pandas?"
   ]
  },
  {
   "cell_type": "code",
   "execution_count": null,
   "metadata": {},
   "outputs": [],
   "source": [
    "# let us see what pd.read_csv do\n",
    "pd.read_csv?"
   ]
  },
  {
   "cell_type": "code",
   "execution_count": null,
   "metadata": {},
   "outputs": [],
   "source": [
    "# load the csv file first by its path, if the file exists in the current folder where you are working no need to specify\n",
    "# the path, you can type the file name directly \n",
    "# it better to start with r\"file path\"\n",
    "# we can use different encoding to parse the data, some use utf-8, but there exist many, try which one suits for the file encoding\n",
    "location = r\"C:/Users/user/Desktop/Pandas_Essentials/data/global_superstore_2016.csv\"\n",
    "gs = pd.read_csv(location, header = 0, encoding ='latin1')\n",
    "#gs = pd.read_csv(\"C:/Users/user/Desktop/Pandas_Essentials/data/global_superstore_2016.csv\", sep = ',', header='infer') "
   ]
  },
  {
   "cell_type": "code",
   "execution_count": null,
   "metadata": {},
   "outputs": [],
   "source": [
    "# head() is used to look at first five rows, but we can specify the n= any number of rows, ex: head(10)\n",
    "gs.head()"
   ]
  },
  {
   "cell_type": "code",
   "execution_count": null,
   "metadata": {},
   "outputs": [],
   "source": [
    "# it describs the values\n",
    "gs.describe()"
   ]
  },
  {
   "cell_type": "code",
   "execution_count": null,
   "metadata": {},
   "outputs": [],
   "source": []
  },
  {
   "cell_type": "code",
   "execution_count": null,
   "metadata": {},
   "outputs": [],
   "source": [
    "# to check the type of the values of the file we can use\n",
    "gs.values"
   ]
  },
  {
   "cell_type": "code",
   "execution_count": null,
   "metadata": {},
   "outputs": [],
   "source": [
    "# to get the number of rows and its step we can use\n",
    "gs.index"
   ]
  },
  {
   "cell_type": "code",
   "execution_count": null,
   "metadata": {},
   "outputs": [],
   "source": [
    "# to slice the rows we can the method,\n",
    "gs[1:5]\n",
    "#gs[0:]"
   ]
  },
  {
   "cell_type": "code",
   "execution_count": null,
   "metadata": {},
   "outputs": [],
   "source": [
    "# to slice in between the range we can use the below method, \n",
    "gs[2:10]"
   ]
  },
  {
   "cell_type": "code",
   "execution_count": null,
   "metadata": {},
   "outputs": [],
   "source": [
    "# to check the null values we can use isnull, it results in bolean type data with null values filled with True else false\n",
    "gs.isnull().head(20)"
   ]
  },
  {
   "cell_type": "code",
   "execution_count": null,
   "metadata": {},
   "outputs": [],
   "source": [
    "# this technique is used to drop the null values which are present both in rows and columns\n",
    "gs.dropna(axis = 'columns', how ='all' )"
   ]
  },
  {
   "cell_type": "code",
   "execution_count": null,
   "metadata": {},
   "outputs": [],
   "source": [
    "# Let ua remove the postal code column that consist lot of null values\n",
    "gsnull = gs.dropna(axis = 'columns')\n",
    "gsnull"
   ]
  },
  {
   "cell_type": "code",
   "execution_count": null,
   "metadata": {},
   "outputs": [],
   "source": [
    "# to get the size of the file we can use shape method with the file\n",
    "gs.shape"
   ]
  },
  {
   "cell_type": "code",
   "execution_count": null,
   "metadata": {},
   "outputs": [],
   "source": [
    "# since we have droped the postal code column in the gs file, the number cloumns are reduced by one\n",
    "gsnull.shape"
   ]
  },
  {
   "cell_type": "code",
   "execution_count": null,
   "metadata": {},
   "outputs": [],
   "source": [
    "# to check the type of the file we can use type attribute \n",
    "type(gs)"
   ]
  },
  {
   "cell_type": "code",
   "execution_count": null,
   "metadata": {},
   "outputs": [],
   "source": [
    "# type will yield different type attributes for different types of file, if only one row or column is considered or selected\n",
    "# it reults series\n",
    "type(gs['Row ID'])"
   ]
  },
  {
   "cell_type": "code",
   "execution_count": null,
   "metadata": {},
   "outputs": [],
   "source": [
    "type(gs['Order ID'])"
   ]
  },
  {
   "cell_type": "code",
   "execution_count": null,
   "metadata": {},
   "outputs": [],
   "source": [
    "#gs.Row ID\n",
    "gs['Row ID'].head()"
   ]
  },
  {
   "cell_type": "code",
   "execution_count": null,
   "metadata": {},
   "outputs": [],
   "source": [
    "# we can select the particular columns as per our data requirement from the original file\n",
    "gs[['Row ID', 'Order ID', 'State', 'Country', 'Market', 'Category', 'Sales', 'Profit']].head()"
   ]
  },
  {
   "cell_type": "code",
   "execution_count": null,
   "metadata": {},
   "outputs": [],
   "source": [
    "gs[['State', 'Country', 'Market', 'Category', 'Sales', 'Profit']].head()"
   ]
  },
  {
   "cell_type": "code",
   "execution_count": null,
   "metadata": {},
   "outputs": [],
   "source": [
    "gs[['State', 'Country', 'Region', 'Market', 'Category', 'Sales', 'Profit']].head()"
   ]
  },
  {
   "cell_type": "code",
   "execution_count": null,
   "metadata": {},
   "outputs": [],
   "source": [
    "gs[['Region', 'Market', 'Category', 'Sub-Category', 'Sales', 'Profit']].head()"
   ]
  },
  {
   "cell_type": "code",
   "execution_count": null,
   "metadata": {},
   "outputs": [],
   "source": [
    "type(gs[['State', 'Country', 'Region', 'Market', 'Category', 'Sales', 'Profit']].head())"
   ]
  },
  {
   "cell_type": "code",
   "execution_count": null,
   "metadata": {},
   "outputs": [],
   "source": [
    "type(gs.State)"
   ]
  },
  {
   "cell_type": "code",
   "execution_count": null,
   "metadata": {},
   "outputs": [],
   "source": [
    "# to check  or view data file from the last row we can use tail() \n",
    "gs.tail(10)"
   ]
  },
  {
   "cell_type": "code",
   "execution_count": null,
   "metadata": {},
   "outputs": [],
   "source": [
    "gs.head(10)"
   ]
  },
  {
   "cell_type": "code",
   "execution_count": null,
   "metadata": {},
   "outputs": [],
   "source": [
    "# to get information about the different columns with the null value and type of the data object present we can use info()\n",
    "gs.info()"
   ]
  },
  {
   "cell_type": "code",
   "execution_count": null,
   "metadata": {},
   "outputs": [],
   "source": [
    "# to slect only the column with a specific type object we can use equality method\n",
    "gs_CC = gs[gs.Segment == 'Corporate']\n",
    "gs_CC.head()"
   ]
  },
  {
   "cell_type": "code",
   "execution_count": null,
   "metadata": {},
   "outputs": [],
   "source": [
    "print(gs_CC.shape)"
   ]
  },
  {
   "cell_type": "code",
   "execution_count": null,
   "metadata": {},
   "outputs": [],
   "source": [
    "# to count the number of values in the file series we can use value_counts(s)\n",
    "gs_CC.Category.value_counts()"
   ]
  },
  {
   "cell_type": "code",
   "execution_count": null,
   "metadata": {},
   "outputs": [],
   "source": [
    "gs_CC.City.value_counts().head()"
   ]
  },
  {
   "cell_type": "code",
   "execution_count": null,
   "metadata": {},
   "outputs": [],
   "source": [
    "gs_CC.Sub-Category.value_counts()\n",
    "# Python allows underscore as the attribute to access the index of the data frame"
   ]
  },
  {
   "cell_type": "code",
   "execution_count": null,
   "metadata": {},
   "outputs": [],
   "source": [
    "gs_CC['Sub-Category'].value_counts()"
   ]
  },
  {
   "cell_type": "code",
   "execution_count": null,
   "metadata": {},
   "outputs": [],
   "source": [
    "gs_CCon = gs[gs['Segment'] =='Consumer']\n",
    "gs_CCon.head()"
   ]
  },
  {
   "cell_type": "code",
   "execution_count": null,
   "metadata": {},
   "outputs": [],
   "source": [
    "gs_CCon.shape"
   ]
  },
  {
   "cell_type": "code",
   "execution_count": null,
   "metadata": {},
   "outputs": [],
   "source": [
    "# to get the different columns at the same time we use indexing method\n",
    "gs[['Segment', 'Category']].head(5)"
   ]
  },
  {
   "cell_type": "code",
   "execution_count": null,
   "metadata": {},
   "outputs": [],
   "source": [
    "# to sort the file with any of the object value or column name we can use sort_values(by='file object name')\n",
    "gs_CCon.sort_values(by ='City')"
   ]
  },
  {
   "cell_type": "code",
   "execution_count": null,
   "metadata": {},
   "outputs": [],
   "source": [
    "gs_CCon.sort_values(by ='Sub-Category')"
   ]
  },
  {
   "cell_type": "code",
   "execution_count": null,
   "metadata": {},
   "outputs": [],
   "source": [
    "# Let us extract the data using conditional statement we can use\n",
    "q_g5 = gs_CCon[gs_CCon['Quantity'] >= 5 ]\n",
    "q_g5"
   ]
  },
  {
   "cell_type": "code",
   "execution_count": null,
   "metadata": {},
   "outputs": [],
   "source": [
    "# Let us extract the data where the quantity is >= 10\n",
    "q_g10 = gs_CCon[gs_CCon['Quantity'] >= 10 ]\n",
    "q_g10"
   ]
  },
  {
   "cell_type": "code",
   "execution_count": null,
   "metadata": {},
   "outputs": [],
   "source": [
    "# to get the max value of the column consisting of intger or floating values we can use max() and similarly for minimum, min()\n",
    "q_max = max(gs_CCon['Quantity'])\n",
    "q_max"
   ]
  },
  {
   "cell_type": "code",
   "execution_count": null,
   "metadata": {},
   "outputs": [],
   "source": [
    "q_min = min(gs_CCon['Quantity'])\n",
    "q_min"
   ]
  },
  {
   "cell_type": "code",
   "execution_count": null,
   "metadata": {},
   "outputs": [],
   "source": []
  }
 ],
 "metadata": {
  "kernelspec": {
   "display_name": "Python 3",
   "language": "python",
   "name": "python3"
  },
  "language_info": {
   "codemirror_mode": {
    "name": "ipython",
    "version": 3
   },
   "file_extension": ".py",
   "mimetype": "text/x-python",
   "name": "python",
   "nbconvert_exporter": "python",
   "pygments_lexer": "ipython3",
   "version": "3.7.0"
  }
 },
 "nbformat": 4,
 "nbformat_minor": 2
}
